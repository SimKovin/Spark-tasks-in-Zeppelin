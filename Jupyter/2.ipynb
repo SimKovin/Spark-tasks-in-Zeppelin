
{
  "cells": [
    {
      "cell_type": "code",
      "execution_count": 2,
      "metadata": {
        "autoscroll": "auto",
        "vscode": {
          "languageId": "python"
        }
      },
      "outputs": [],
      "source": [
        "%pyspark\n",
        "import pyspark.sql.functions as f\n",
        "\n",
        "events_df = spark.table(\"market.events\")\n",
        "\n",
        "events_df.show()"
      ]
    },
    {
      "cell_type": "markdown",
      "metadata": {},
      "source": [
        "Вывести топ категорий по количеству просмотров товаров за всё время"
      ]
    },
    {
      "cell_type": "code",
      "execution_count": 3,
      "metadata": {
        "autoscroll": "auto",
        "vscode": {
          "languageId": "python"
        }
      },
      "outputs": [],
      "source": [
        "%pyspark\n",
        "import pyspark.sql.functions as f\n",
        "\n",
        "events_df = spark.table(\"market.events\")\n",
        "\n",
        "\n",
        "events_df \\\n",
        "    .filter(f.col(\"event_type\") == \"view\") \\\n",
        "    .groupBy(\"category_code\") \\\n",
        "    .agg(f.count(\"*\").alias(\"view_count\")) \\\n",
        "    .orderBy(f.col('view_count').desc()) \\\n",
        "    .show(truncate=False)\n",
        "    \n",
        "# category_id | views"
      ]
    },
    {
      "cell_type": "markdown",
      "metadata": {},
      "source": [
        "Построить гистограмму распределения цен на проданные товары за 17 ноября 2019 года"
      ]
    },
    {
      "cell_type": "code",
      "execution_count": 4,
      "metadata": {
        "autoscroll": "auto",
        "vscode": {
          "languageId": "python"
        }
      },
      "outputs": [],
      "source": [
        "%pyspark\n",
        "import pyspark.sql.functions as f\n",
        "\n",
        "events_df = spark.table(\"market.events\")\n",
        "\n",
        "z.show(\n",
        "    events_df \\\n",
        "        .filter(f.col(\"date\") == \"2019-11-17\") \\\n",
        "        .filter(f.col(\"event_type\") == \"purchase\") \\\n",
        "        .withColumn(\"price_bin\", f.expr(\"round(price/10)*10\")) \\\n",
        "        .groupBy(\"price_bin\") \\\n",
        "        .agg(f.approx_count_distinct(\"product_id\")) \\\n",
        "        .orderBy(\"price_bin\")\n",
        ")"
      ]
    }
  ],
  "metadata": {
    "kernelspec": {
      "display_name": "Python 3.8.0 64-bit ('venv_2': virtualenv)",
      "language": "python",
      "name": "venv_2"
    },
    "language_info": {
      "codemirror_mode": "text/x-scala",
      "file_extension": ".scala",
      "mimetype": "text/x-scala",
      "name": "scala",
      "pygments_lexer": "scala"
    },
    "name": "2"
  },
  "nbformat": 4,
  "nbformat_minor": 2
}

